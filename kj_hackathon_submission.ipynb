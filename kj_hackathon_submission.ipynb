{
 "cells": [
  {
   "cell_type": "code",
   "execution_count": 70,
   "id": "b12ff8fd",
   "metadata": {},
   "outputs": [],
   "source": [
    "import pandas as pd\n",
    "import numpy as np\n",
    "from sklearn.model_selection import train_test_split\n",
    "from sklearn.preprocessing import StandardScaler, OneHotEncoder\n",
    "from sklearn.linear_model import LogisticRegression\n",
    "from sklearn.metrics import roc_auc_score"
   ]
  },
  {
   "cell_type": "code",
   "execution_count": 71,
   "id": "7cd0eb6b",
   "metadata": {},
   "outputs": [],
   "source": [
    "train_features = pd.read_csv('training_set_features.csv')\n",
    "train_labels = pd.read_csv('training_set_labels.csv')\n",
    "test_features = pd.read_csv('test_set_features.csv')"
   ]
  },
  {
   "cell_type": "code",
   "execution_count": 72,
   "id": "c8b6c5fd",
   "metadata": {},
   "outputs": [],
   "source": [
    "train_data = train_features.merge(train_labels, on='respondent_id')\n",
    "\n",
    "X = train_data.drop(columns=['xyz_vaccine', 'seasonal_vaccine'])\n",
    "y = train_data[['xyz_vaccine', 'seasonal_vaccine']]"
   ]
  },
  {
   "cell_type": "code",
   "execution_count": 73,
   "id": "25b058cb",
   "metadata": {},
   "outputs": [],
   "source": [
    "categorical_cols = X.select_dtypes(include=['object']).columns\n",
    "numerical_cols = X.select_dtypes(include=['int64', 'float64']).columns"
   ]
  },
  {
   "cell_type": "code",
   "execution_count": 74,
   "id": "7e44c4be",
   "metadata": {},
   "outputs": [],
   "source": [
    "binary_cols = [col for col in numerical_cols if X[col].dropna().isin([0, 1]).all()]\n",
    "\n",
    "for col in binary_cols:\n",
    "    X[col].fillna(X[col].mode()[0], inplace=True)\n",
    "    test_features[col].fillna(test_features[col].mode()[0], inplace=True)\n"
   ]
  },
  {
   "cell_type": "code",
   "execution_count": 75,
   "id": "09ca51dd",
   "metadata": {},
   "outputs": [],
   "source": [
    "non_binary_cols = [col for col in numerical_cols if col not in binary_cols]\n",
    "for col in non_binary_cols:\n",
    "    X[col].fillna(X[col].median(), inplace=True)\n",
    "    test_features[col].fillna(test_features[col].median(), inplace=True)\n",
    "\n",
    "for col in categorical_cols:\n",
    "    X[col].fillna(X[col].mode()[0], inplace=True)\n",
    "    test_features[col].fillna(test_features[col].mode()[0], inplace=True)\n"
   ]
  },
  {
   "cell_type": "code",
   "execution_count": 76,
   "id": "46996046",
   "metadata": {},
   "outputs": [],
   "source": [
    "# One-hot encoding krdete h category wlo ki\n",
    "X = pd.get_dummies(X, columns=categorical_cols, drop_first=True)\n",
    "test_features = pd.get_dummies(test_features, columns=categorical_cols, drop_first=True)\n"
   ]
  },
  {
   "cell_type": "code",
   "execution_count": 77,
   "id": "31f9bfc5",
   "metadata": {},
   "outputs": [],
   "source": [
    "test_features = test_features.reindex(columns=X.columns, fill_value=0)\n",
    "\n",
    "\n",
    "scaler = StandardScaler()\n",
    "X[numerical_cols] = scaler.fit_transform(X[numerical_cols])\n",
    "test_features[numerical_cols] = scaler.transform(test_features[numerical_cols])"
   ]
  },
  {
   "cell_type": "code",
   "execution_count": 83,
   "id": "4cedfd4d",
   "metadata": {},
   "outputs": [
    {
     "data": {
      "text/html": [
       "<style>#sk-container-id-6 {color: black;background-color: white;}#sk-container-id-6 pre{padding: 0;}#sk-container-id-6 div.sk-toggleable {background-color: white;}#sk-container-id-6 label.sk-toggleable__label {cursor: pointer;display: block;width: 100%;margin-bottom: 0;padding: 0.3em;box-sizing: border-box;text-align: center;}#sk-container-id-6 label.sk-toggleable__label-arrow:before {content: \"▸\";float: left;margin-right: 0.25em;color: #696969;}#sk-container-id-6 label.sk-toggleable__label-arrow:hover:before {color: black;}#sk-container-id-6 div.sk-estimator:hover label.sk-toggleable__label-arrow:before {color: black;}#sk-container-id-6 div.sk-toggleable__content {max-height: 0;max-width: 0;overflow: hidden;text-align: left;background-color: #f0f8ff;}#sk-container-id-6 div.sk-toggleable__content pre {margin: 0.2em;color: black;border-radius: 0.25em;background-color: #f0f8ff;}#sk-container-id-6 input.sk-toggleable__control:checked~div.sk-toggleable__content {max-height: 200px;max-width: 100%;overflow: auto;}#sk-container-id-6 input.sk-toggleable__control:checked~label.sk-toggleable__label-arrow:before {content: \"▾\";}#sk-container-id-6 div.sk-estimator input.sk-toggleable__control:checked~label.sk-toggleable__label {background-color: #d4ebff;}#sk-container-id-6 div.sk-label input.sk-toggleable__control:checked~label.sk-toggleable__label {background-color: #d4ebff;}#sk-container-id-6 input.sk-hidden--visually {border: 0;clip: rect(1px 1px 1px 1px);clip: rect(1px, 1px, 1px, 1px);height: 1px;margin: -1px;overflow: hidden;padding: 0;position: absolute;width: 1px;}#sk-container-id-6 div.sk-estimator {font-family: monospace;background-color: #f0f8ff;border: 1px dotted black;border-radius: 0.25em;box-sizing: border-box;margin-bottom: 0.5em;}#sk-container-id-6 div.sk-estimator:hover {background-color: #d4ebff;}#sk-container-id-6 div.sk-parallel-item::after {content: \"\";width: 100%;border-bottom: 1px solid gray;flex-grow: 1;}#sk-container-id-6 div.sk-label:hover label.sk-toggleable__label {background-color: #d4ebff;}#sk-container-id-6 div.sk-serial::before {content: \"\";position: absolute;border-left: 1px solid gray;box-sizing: border-box;top: 0;bottom: 0;left: 50%;z-index: 0;}#sk-container-id-6 div.sk-serial {display: flex;flex-direction: column;align-items: center;background-color: white;padding-right: 0.2em;padding-left: 0.2em;position: relative;}#sk-container-id-6 div.sk-item {position: relative;z-index: 1;}#sk-container-id-6 div.sk-parallel {display: flex;align-items: stretch;justify-content: center;background-color: white;position: relative;}#sk-container-id-6 div.sk-item::before, #sk-container-id-6 div.sk-parallel-item::before {content: \"\";position: absolute;border-left: 1px solid gray;box-sizing: border-box;top: 0;bottom: 0;left: 50%;z-index: -1;}#sk-container-id-6 div.sk-parallel-item {display: flex;flex-direction: column;z-index: 1;position: relative;background-color: white;}#sk-container-id-6 div.sk-parallel-item:first-child::after {align-self: flex-end;width: 50%;}#sk-container-id-6 div.sk-parallel-item:last-child::after {align-self: flex-start;width: 50%;}#sk-container-id-6 div.sk-parallel-item:only-child::after {width: 0;}#sk-container-id-6 div.sk-dashed-wrapped {border: 1px dashed gray;margin: 0 0.4em 0.5em 0.4em;box-sizing: border-box;padding-bottom: 0.4em;background-color: white;}#sk-container-id-6 div.sk-label label {font-family: monospace;font-weight: bold;display: inline-block;line-height: 1.2em;}#sk-container-id-6 div.sk-label-container {text-align: center;}#sk-container-id-6 div.sk-container {/* jupyter's `normalize.less` sets `[hidden] { display: none; }` but bootstrap.min.css set `[hidden] { display: none !important; }` so we also need the `!important` here to be able to override the default hidden behavior on the sphinx rendered scikit-learn.org. See: https://github.com/scikit-learn/scikit-learn/issues/21755 */display: inline-block !important;position: relative;}#sk-container-id-6 div.sk-text-repr-fallback {display: none;}</style><div id=\"sk-container-id-6\" class=\"sk-top-container\"><div class=\"sk-text-repr-fallback\"><pre>LogisticRegression(max_iter=1000, random_state=42)</pre><b>In a Jupyter environment, please rerun this cell to show the HTML representation or trust the notebook. <br />On GitHub, the HTML representation is unable to render, please try loading this page with nbviewer.org.</b></div><div class=\"sk-container\" hidden><div class=\"sk-item\"><div class=\"sk-estimator sk-toggleable\"><input class=\"sk-toggleable__control sk-hidden--visually\" id=\"sk-estimator-id-6\" type=\"checkbox\" checked><label for=\"sk-estimator-id-6\" class=\"sk-toggleable__label sk-toggleable__label-arrow\">LogisticRegression</label><div class=\"sk-toggleable__content\"><pre>LogisticRegression(max_iter=1000, random_state=42)</pre></div></div></div></div></div>"
      ],
      "text/plain": [
       "LogisticRegression(max_iter=1000, random_state=42)"
      ]
     },
     "execution_count": 83,
     "metadata": {},
     "output_type": "execute_result"
    }
   ],
   "source": [
    "#guyss datasplit krdege ab ham\n",
    "X_train, X_valid, y_train, y_valid = train_test_split(X, y, test_size=0.2, random_state=42)\n",
    "\n",
    "# modelbna kr training krdege ab jldi jldi\n",
    "model_xyz = LogisticRegression(random_state=42, max_iter=1000)\n",
    "model_seasonal = LogisticRegression(random_state=42, max_iter=1000)\n",
    "\n",
    "model_xyz.fit(X_train, y_train['xyz_vaccine'])\n",
    "model_seasonal.fit(X_train, y_train['seasonal_vaccine'])\n"
   ]
  },
  {
   "cell_type": "code",
   "execution_count": 79,
   "id": "277d0fd1",
   "metadata": {},
   "outputs": [],
   "source": [
    "#prediction timeee\n",
    "y_pred_xyz = model_xyz.predict_proba(X_valid)[:, 1] \n",
    "y_pred_seasonal = model_seasonal.predict_proba(X_valid)[:, 1]  \n"
   ]
  },
  {
   "cell_type": "code",
   "execution_count": 80,
   "id": "5679d37a",
   "metadata": {},
   "outputs": [
    {
     "name": "stdout",
     "output_type": "stream",
     "text": [
      "Validation ROC AUC Score: 0.8437459341505344\n"
     ]
    }
   ],
   "source": [
    "# ROC AUC score :/\n",
    "roc_auc_xyz = roc_auc_score(y_valid['xyz_vaccine'], y_pred_xyz)\n",
    "roc_auc_seasonal = roc_auc_score(y_valid['seasonal_vaccine'], y_pred_seasonal)\n",
    "roc_auc = (roc_auc_xyz + roc_auc_seasonal) / 2\n",
    "print(f'Validation ROC AUC Score: {roc_auc}')"
   ]
  },
  {
   "cell_type": "code",
   "execution_count": 81,
   "id": "6aadebe2",
   "metadata": {},
   "outputs": [],
   "source": [
    "test_pred_xyz = model_xyz.predict_proba(test_features)[:, 1]  \n",
    "test_pred_seasonal = model_seasonal.predict_proba(test_features)[:, 1]  "
   ]
  },
  {
   "cell_type": "code",
   "execution_count": 82,
   "id": "dfa71408",
   "metadata": {},
   "outputs": [
    {
     "name": "stdout",
     "output_type": "stream",
     "text": [
      "Submission file created successfully!\n"
     ]
    }
   ],
   "source": [
    "submission = pd.DataFrame({\n",
    "    'respondent_id': test_features.index,\n",
    "    'xyz_vaccine': test_pred_xyz,\n",
    "    'seasonal_vaccine': test_pred_seasonal\n",
    "})\n",
    "\n",
    "submission.to_csv('submission.csv', index=False)\n",
    "print(\"Submission file created successfully!\")"
   ]
  },
  {
   "cell_type": "code",
   "execution_count": null,
   "id": "f1582ec0",
   "metadata": {},
   "outputs": [],
   "source": []
  },
  {
   "cell_type": "code",
   "execution_count": null,
   "id": "98478c85",
   "metadata": {},
   "outputs": [],
   "source": []
  },
  {
   "cell_type": "code",
   "execution_count": null,
   "id": "baebe07b",
   "metadata": {},
   "outputs": [],
   "source": []
  }
 ],
 "metadata": {
  "kernelspec": {
   "display_name": "Python 3 (ipykernel)",
   "language": "python",
   "name": "python3"
  },
  "language_info": {
   "codemirror_mode": {
    "name": "ipython",
    "version": 3
   },
   "file_extension": ".py",
   "mimetype": "text/x-python",
   "name": "python",
   "nbconvert_exporter": "python",
   "pygments_lexer": "ipython3",
   "version": "3.11.7"
  }
 },
 "nbformat": 4,
 "nbformat_minor": 5
}
